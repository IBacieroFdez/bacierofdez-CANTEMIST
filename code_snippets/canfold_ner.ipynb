{
 "cells": [
  {
   "cell_type": "markdown",
   "metadata": {},
   "source": [
    "### FOLDS del train dataset \n",
    "\n",
    "    Aquí lo que necesito es aleatorizar los textos de entrenamiento para que se cumplan las hipotesis i.i.d y dividir el dataset en 5 folds\n",
    "    \n",
    "    ACTUALIZACION 29/7:\n",
    "        Solucionado en cantrain_ner."
   ]
  },
  {
   "cell_type": "code",
   "execution_count": 2,
   "metadata": {},
   "outputs": [
    {
     "name": "stdout",
     "output_type": "stream",
     "text": [
      "T1\tMORFOLOGIA_NEOPLASIA 1433 1457\tCarcinoma indiferenciado\n",
      "T2\tMORFOLOGIA_NEOPLASIA 1344 1373\tNódulo pulmonar contralateral\n",
      "T3\tMORFOLOGIA_NEOPLASIA 1212 1224\tmetastásicas\n",
      "T4\tMORFOLOGIA_NEOPLASIA 2636 2654\tnódulos pulmonares\n",
      "T5\tMORFOLOGIA_NEOPLASIA 2866 2873\ttumoral\n",
      "T6\tMORFOLOGIA_NEOPLASIA 3179 3186\ttumoral\n",
      "T7\tMORFOLOGIA_NEOPLASIA 1546 1603\tCarcinoma indiferenciado de pulmón, Estadio IV (T2bN2M1a)\n",
      "\n"
     ]
    }
   ],
   "source": [
    "f = open(\"/Users/ignaciobacierofernandez/Desktop/cantemist/dev-set1-to-publish/cantemist-ner/cc_onco8.ann\", \"r\")\n",
    "print(f.read())"
   ]
  },
  {
   "cell_type": "code",
   "execution_count": 23,
   "metadata": {},
   "outputs": [
    {
     "name": "stdout",
     "output_type": "stream",
     "text": [
      "['T1', 'MORFOLOGIA_NEOPLASIA', '1433', '1457', 'Carcinoma', 'indiferenciado']\n",
      "['T2', 'MORFOLOGIA_NEOPLASIA', '1344', '1373', 'Nódulo', 'pulmonar', 'contralateral']\n",
      "['T3', 'MORFOLOGIA_NEOPLASIA', '1212', '1224', 'metastásicas']\n",
      "['T4', 'MORFOLOGIA_NEOPLASIA', '2636', '2654', 'nódulos', 'pulmonares']\n",
      "['T5', 'MORFOLOGIA_NEOPLASIA', '2866', '2873', 'tumoral']\n",
      "['T6', 'MORFOLOGIA_NEOPLASIA', '3179', '3186', 'tumoral']\n",
      "['T7', 'MORFOLOGIA_NEOPLASIA', '1546', '1603', 'Carcinoma', 'indiferenciado', 'de', 'pulmón,', 'Estadio', 'IV', '(T2bN2M1a)']\n"
     ]
    }
   ],
   "source": [
    "with open(\"/Users/ignaciobacierofernandez/Desktop/cantemist/dev-set1-to-publish/cantemist-ner/cc_onco8.ann\") as annot:\n",
    "    for i in range(7):\n",
    "        line = annot.readline().split()\n",
    "        print(line)\n",
    "        train = '[('+str(line[2])+', '+str(line[3])+', \"'+str(line[1])+'\")]'\n",
    "        #He conseguido meter una anotacion de todo el texto\n",
    "        #Me falta conseguir meter todas las anotaciones de la siguiente manera:\n",
    "#         TRAIN_DATA = [\n",
    "#     (\"texto\", {\"entities\": (7, 17, \"MORFOLOGIA_NEOPLASIA\"),(7, 17, \"MORFOLOGIA_NEOPLASIA\"),...,(7, 17, \"MORFOLOGIA_NEOPLASIA\")})\n",
    "# ]\n",
    "             "
   ]
  },
  {
   "cell_type": "code",
   "execution_count": 24,
   "metadata": {},
   "outputs": [
    {
     "data": {
      "text/plain": [
       "'[(1546, 1603, \"MORFOLOGIA_NEOPLASIA\")]'"
      ]
     },
     "execution_count": 24,
     "metadata": {},
     "output_type": "execute_result"
    }
   ],
   "source": [
    "train"
   ]
  },
  {
   "cell_type": "code",
   "execution_count": null,
   "metadata": {},
   "outputs": [],
   "source": []
  }
 ],
 "metadata": {
  "kernelspec": {
   "display_name": "Python 3",
   "language": "python",
   "name": "python3"
  },
  "language_info": {
   "codemirror_mode": {
    "name": "ipython",
    "version": 3
   },
   "file_extension": ".py",
   "mimetype": "text/x-python",
   "name": "python",
   "nbconvert_exporter": "python",
   "pygments_lexer": "ipython3",
   "version": "3.7.6"
  }
 },
 "nbformat": 4,
 "nbformat_minor": 4
}
